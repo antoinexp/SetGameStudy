{
 "cells": [
  {
   "cell_type": "code",
   "execution_count": 1,
   "metadata": {},
   "outputs": [],
   "source": [
    "%matplotlib inline"
   ]
  },
  {
   "cell_type": "code",
   "execution_count": 2,
   "metadata": {},
   "outputs": [
    {
     "name": "stderr",
     "output_type": "stream",
     "text": [
      "Using TensorFlow backend.\n"
     ]
    }
   ],
   "source": [
    "import keras\n",
    "from keras.datasets import mnist\n",
    "from keras.models import Sequential\n",
    "from keras.layers import Dense, Dropout, Flatten\n",
    "from keras import backend as K\n",
    "import numpy as np\n",
    "import pandas as pd\n",
    "from functools import reduce\n",
    "from itertools import combinations\n",
    "from keras.layers import Input\n",
    "from keras.models import Model\n",
    "from keras.utils import plot_model"
   ]
  },
  {
   "cell_type": "code",
   "execution_count": 3,
   "metadata": {},
   "outputs": [],
   "source": [
    "def transformCards(cards):\n",
    "    S = np.array([\n",
    "        1*(cards[0] == cards[1]),\n",
    "        1*(cards[2] == cards[1]),\n",
    "        1*(cards[0] == cards[2])\n",
    "    ])\n",
    "    \n",
    "    permut = np.array([\n",
    "        S[0]*S[1]*S[2],\n",
    "        np.bitwise_xor(S[0], np.bitwise_xor(S[1], S[2])),\n",
    "        np.bitwise_xor(S[0]*S[1], np.bitwise_xor(S[1]*S[2], S[2]*S[0]))\n",
    "    ])\n",
    "    return permut\n",
    "    \n",
    "    T = np.zeros((12,3)).astype(\"int32\")\n",
    "    T[np.arange(12), cards.reshape(3*4)] = 1\n",
    "    R = T.reshape(3,4,3)\n",
    "    \n",
    "    return R"
   ]
  },
  {
   "cell_type": "code",
   "execution_count": 4,
   "metadata": {},
   "outputs": [],
   "source": [
    "def generateCard(): return np.random.randint(0,3,4).astype(\"int32\")"
   ]
  },
  {
   "cell_type": "code",
   "execution_count": 5,
   "metadata": {},
   "outputs": [],
   "source": [
    "def generateSet():\n",
    "    A = generateCard()\n",
    "    B = generateCard()\n",
    "    return transformCards(np.array([A,B,(3-(A+B)%3)%3]).astype(\"int32\"))"
   ]
  },
  {
   "cell_type": "code",
   "execution_count": 6,
   "metadata": {},
   "outputs": [],
   "source": [
    "def isSet(cards):\n",
    "    return (cards.sum(axis=0)%3).sum()==0"
   ]
  },
  {
   "cell_type": "code",
   "execution_count": 7,
   "metadata": {},
   "outputs": [],
   "source": [
    "def generateNonSet():\n",
    "    A = generateCard()\n",
    "    B = generateCard()\n",
    "    while True:\n",
    "        C = generateCard()\n",
    "        cards = np.array([A,B,C])\n",
    "        if not isSet(cards):\n",
    "            return transformCards(cards)"
   ]
  },
  {
   "cell_type": "code",
   "execution_count": 8,
   "metadata": {},
   "outputs": [],
   "source": [
    "def generateDataset(N):\n",
    "    X1 = np.array([generateSet() for _ in range(N)])\n",
    "    X2 = np.array([generateNonSet() for _ in range(N)])\n",
    "    Y = np.random.randint(0,2,N)\n",
    "    shape = (1,)*(len(X1.shape)-1)\n",
    "    Y1 = Y.reshape(N,*shape)\n",
    "    return Y1*X1+(1-Y1)*X2, Y"
   ]
  },
  {
   "cell_type": "code",
   "execution_count": 30,
   "metadata": {},
   "outputs": [],
   "source": [
    "Xtrain, Ytrain = generateDataset(3)"
   ]
  },
  {
   "cell_type": "code",
   "execution_count": 31,
   "metadata": {},
   "outputs": [],
   "source": [
    "Xtest, Ytest = generateDataset(1000)"
   ]
  },
  {
   "cell_type": "code",
   "execution_count": 32,
   "metadata": {},
   "outputs": [
    {
     "data": {
      "text/plain": [
       "(3, 3, 4)"
      ]
     },
     "execution_count": 32,
     "metadata": {},
     "output_type": "execute_result"
    }
   ],
   "source": [
    "Xtrain.shape"
   ]
  },
  {
   "cell_type": "code",
   "execution_count": 33,
   "metadata": {},
   "outputs": [],
   "source": [
    "def SetNet(inputLayer):\n",
    "    X = [keras.layers.Lambda(lambda x: x[:, :, i])(inputLayer) for i in range(4)]\n",
    "    #X = [keras.layers.Flatten()(c) for c in X]\n",
    "\n",
    "    layer_1 = Dense(12, activation='relu')\n",
    "    layer_2 = Dense(8, activation='relu')\n",
    "    layer_3 = Dense(1, activation='sigmoid')\n",
    "    \n",
    "    X = [layer_1(c) for c in X]\n",
    "    X = [layer_2(c) for c in X]\n",
    "    X = [layer_3(c) for c in X]\n",
    "    \n",
    "    X = keras.layers.Multiply()(X)\n",
    "    \n",
    "    return X"
   ]
  },
  {
   "cell_type": "code",
   "execution_count": 34,
   "metadata": {},
   "outputs": [],
   "source": [
    "inputLayer = Input(Xtrain[0].shape)\n",
    "outputLayer = SetNet(inputLayer)"
   ]
  },
  {
   "cell_type": "code",
   "execution_count": 35,
   "metadata": {},
   "outputs": [],
   "source": [
    "model = Model(inputs=inputLayer, outputs=outputLayer)"
   ]
  },
  {
   "cell_type": "code",
   "execution_count": 36,
   "metadata": {},
   "outputs": [],
   "source": [
    "model.compile(loss=keras.losses.binary_crossentropy,\n",
    "              optimizer=keras.optimizers.Adam(),\n",
    "              metrics=['accuracy'])"
   ]
  },
  {
   "cell_type": "code",
   "execution_count": 37,
   "metadata": {},
   "outputs": [],
   "source": [
    "hist = model.fit(Xtrain, Ytrain,\n",
    "          epochs=1000,\n",
    "          verbose=0,\n",
    "          validation_data=(Xtest, Ytest))"
   ]
  },
  {
   "cell_type": "code",
   "execution_count": 38,
   "metadata": {
    "scrolled": true
   },
   "outputs": [
    {
     "data": {
      "text/plain": [
       "<matplotlib.axes._subplots.AxesSubplot at 0x12caa8358>"
      ]
     },
     "execution_count": 38,
     "metadata": {},
     "output_type": "execute_result"
    },
    {
     "data": {
      "image/png": "[encoded data removed]",
      "text/plain": [
       "<Figure size 432x288 with 1 Axes>"
      ]
     },
     "metadata": {
      "needs_background": "light"
     },
     "output_type": "display_data"
    }
   ],
   "source": [
    "pd.DataFrame(hist.history).plot()"
   ]
  },
  {
   "cell_type": "code",
   "execution_count": 39,
   "metadata": {},
   "outputs": [
    {
     "data": {
      "text/plain": [
       "[0.008841807410120963, 1.0]"
      ]
     },
     "execution_count": 39,
     "metadata": {},
     "output_type": "execute_result"
    }
   ],
   "source": [
    "model.evaluate(Xtest, Ytest, verbose=0)"
   ]
  },
  {
   "cell_type": "code",
   "execution_count": 19,
   "metadata": {},
   "outputs": [],
   "source": [
    "plot_model(model, show_shapes=True, to_file=\"file.png\", show_layer_names=True)"
   ]
  },
  {
   "cell_type": "code",
   "execution_count": null,
   "metadata": {},
   "outputs": [],
   "source": []
  }
 ],
 "metadata": {
  "kernelspec": {
   "display_name": "Python 3",
   "language": "python",
   "name": "python3"
  },
  "language_info": {
   "codemirror_mode": {
    "name": "ipython",
    "version": 3
   },
   "file_extension": ".py",
   "mimetype": "text/x-python",
   "name": "python",
   "nbconvert_exporter": "python",
   "pygments_lexer": "ipython3",
   "version": "3.7.2"
  }
 },
 "nbformat": 4,
 "nbformat_minor": 2
}
